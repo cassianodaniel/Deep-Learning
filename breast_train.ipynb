{
  "nbformat": 4,
  "nbformat_minor": 0,
  "metadata": {
    "colab": {
      "name": "breast_train",
      "provenance": [],
      "collapsed_sections": []
    },
    "kernelspec": {
      "name": "python3",
      "display_name": "Python 3"
    },
    "accelerator": "GPU"
  },
  "cells": [
    {
      "cell_type": "code",
      "metadata": {
        "id": "R7SpsUAszQS7",
        "colab_type": "code",
        "outputId": "b323e129-8c46-4237-89f3-99a6dd15604c",
        "colab": {
          "base_uri": "https://localhost:8080/",
          "height": 667
        }
      },
      "source": [
        "import pandas as pd #leitura\n",
        "import tensorflow as tf\n",
        "from sklearn.model_selection import train_test_split #modelo de aprendizado para teste\n",
        "from sklearn.preprocessing import LabelEncoder #labelencoder para substituir título por números\n",
        "from keras.utils import np_utils #np_utils.to_categorical(classe) para melhorar a visualizacao --> em vez de ver os elementos como 0,1,2 --> 001,010,100;\n",
        "from keras.models import Sequential, Model\n",
        "from keras.layers import Dense, Input #camadas densas -> estão ligadas a toda a rede posterior\n",
        "\n",
        "entrada = pd.read_csv('entradas-breast.csv') #leitura\n",
        "saida = pd.read_csv('saidas-breast.csv') #leitura\n",
        "atributos = entrada[:].values\n",
        "classe = saida[:].values\n",
        "\n",
        "#lab = LabelEncoder()\n",
        "#atributos = lab.fit_transform(atributos)\n",
        "#atributos = np_utils.to_categorical(atributos) bad input shape\n",
        "\n",
        "atributos = tf.keras.utils.normalize(atributos,axis=1) #dot after values in array\n",
        "classe = tf.keras.utils.normalize(classe,axis=1) #dot after values in array\n",
        "\n",
        "model = tf.keras.models.Sequential()\n",
        "model.add(tf.keras.layers.Flatten())\n",
        "model.add(tf.keras.layers.Dense(128,activation=tf.nn.relu)) #default activation function, 128 neurons\n",
        "model.add(tf.keras.layers.Dense(10,activation=tf.nn.softmax)) #output layer\n",
        "\n",
        "model.compile(optimizer='adam',\n",
        "              loss='binary_crossentropy',\n",
        "              metrics=['accuracy'])\n",
        "\n",
        "model.fit(atributos, classe, epochs=3)\n",
        "\n",
        "val_loss, val_acc = model.evaluate(atributos,classe) \n",
        "val_loss #var to evaluate loss\n",
        "\n",
        "import numpy as np \n",
        "print(np.argmax(classe[0])) #reader\n",
        "\n",
        "import matplotlib.pyplot as plt\n",
        "plt.imshow(atributos)\n",
        "plt.show()\n",
        "plt.imshow(classe)\n",
        "plt.show()"
      ],
      "execution_count": 0,
      "outputs": [
        {
          "output_type": "stream",
          "text": [
            "Train on 569 samples\n",
            "Epoch 1/3\n",
            "569/569 [==============================] - 0s 249us/sample - loss: 14.4749 - acc: 0.0035\n",
            "Epoch 2/3\n",
            "569/569 [==============================] - 0s 65us/sample - loss: 14.4824 - acc: 0.0070\n",
            "Epoch 3/3\n",
            "569/569 [==============================] - 0s 70us/sample - loss: 14.5025 - acc: 0.0158\n",
            "569/569 [==============================] - 0s 190us/sample - loss: 14.5163 - acc: 0.0334\n",
            "0\n"
          ],
          "name": "stdout"
        },
        {
          "output_type": "display_data",
          "data": {
            "image/png": "[encoded data removed]",
            "text/plain": [
              "<Figure size 432x288 with 1 Axes>"
            ]
          },
          "metadata": {
            "tags": []
          }
        },
        {
          "output_type": "display_data",
          "data": {
            "image/png": "[encoded data removed]",
            "text/plain": [
              "<Figure size 432x288 with 1 Axes>"
            ]
          },
          "metadata": {
            "tags": []
          }
        }
      ]
    },
    {
      "cell_type": "code",
      "metadata": {
        "id": "a3cVBKZ53u6B",
        "colab_type": "code",
        "colab": {}
      },
      "source": [
        ""
      ],
      "execution_count": 0,
      "outputs": []
    },
    {
      "cell_type": "code",
      "metadata": {
        "id": "hdURCIT63sAq",
        "colab_type": "code",
        "colab": {}
      },
      "source": [
        ""
      ],
      "execution_count": 0,
      "outputs": []
    }
  ]
}
